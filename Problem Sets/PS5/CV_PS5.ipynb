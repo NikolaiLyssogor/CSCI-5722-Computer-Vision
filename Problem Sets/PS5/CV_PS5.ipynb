{
 "cells": [
  {
   "cell_type": "code",
   "execution_count": 1,
   "id": "fb96b6c4",
   "metadata": {
    "scrolled": true
   },
   "outputs": [],
   "source": [
    "import torch\n",
    "import torchvision\n",
    "import torch.nn as nn\n",
    "import torch.nn.functional as F\n",
    "import torch.optim as optim\n",
    "from torchsummary import summary\n",
    "import time\n",
    "import pandas as pd"
   ]
  },
  {
   "cell_type": "code",
   "execution_count": 2,
   "id": "9d212d4d",
   "metadata": {},
   "outputs": [
    {
     "name": "stdout",
     "output_type": "stream",
     "text": [
      "Files already downloaded and verified\n",
      "Files already downloaded and verified\n"
     ]
    }
   ],
   "source": [
    "transform = torchvision.transforms.Compose(\n",
    "    [torchvision.transforms.ToTensor(),\n",
    "     torchvision.transforms.Normalize((0.5, 0.5, 0.5), (0.5, 0.5, 0.5))])\n",
    "\n",
    "batch_size = 32\n",
    "\n",
    "trainset = torchvision.datasets.CIFAR10(root='./data', train=True,\n",
    "                                        download=True, transform=transform)\n",
    "trainloader = torch.utils.data.DataLoader(trainset, batch_size=batch_size,\n",
    "                                          shuffle=True, num_workers=2)\n",
    "\n",
    "testset = torchvision.datasets.CIFAR10(root='./data', train=False,\n",
    "                                       download=True, transform=transform)\n",
    "testloader = torch.utils.data.DataLoader(testset, batch_size=batch_size,\n",
    "                                         shuffle=False, num_workers=2)\n",
    "\n",
    "classes = ('plane', 'car', 'bird', 'cat',\n",
    "           'deer', 'dog', 'frog', 'horse', 'ship', 'truck')"
   ]
  },
  {
   "cell_type": "code",
   "execution_count": 3,
   "id": "23e4105e",
   "metadata": {},
   "outputs": [],
   "source": [
    "class MyConvNet(nn.Module):\n",
    "    \n",
    "    def __init__(self, conv2_filters=64, fc1_features=64):\n",
    "        super().__init__()\n",
    "        self.conv1 = nn.Conv2d(in_channels=3, out_channels=32, stride=1, kernel_size=(3,3))\n",
    "        self.pool1 = nn.MaxPool2d(kernel_size=(2,2), stride=2)\n",
    "        self.conv2 = nn.Conv2d(in_channels=32, out_channels=conv2_filters, stride=1, kernel_size=(3,3))\n",
    "        self.pool2 = nn.MaxPool2d(kernel_size=(2,2))\n",
    "        self.conv3 = nn.Conv2d(in_channels=conv2_filters, out_channels=64, stride=1, kernel_size=(3,3))\n",
    "        self.fc1 = nn.Linear(in_features=1024, out_features=fc1_features)\n",
    "        self.fc2 = nn.Linear(in_features=fc1_features , out_features=10)\n",
    "        \n",
    "    def forward(self, x):\n",
    "        x = self.pool1(F.relu(self.conv1(x)))\n",
    "        x = self.pool2(F.relu(self.conv2(x)))\n",
    "        x = F.relu(self.conv3(x))\n",
    "        x = torch.flatten(x, 1)\n",
    "        x = F.relu(self.fc1(x))\n",
    "        x = self.fc2(x)\n",
    "        return x"
   ]
  },
  {
   "cell_type": "code",
   "execution_count": 9,
   "id": "271720c3",
   "metadata": {
    "scrolled": false
   },
   "outputs": [],
   "source": [
    "class ModelTrainer:\n",
    "    \n",
    "    def __init__(self, trainloader, testloader, conv2_filters=64, fc1_features=64):\n",
    "        self.trainloader = trainloader\n",
    "        self.testloader = testloader\n",
    "        \n",
    "        self.model = MyConvNet(conv2_filters, fc1_features)\n",
    "#         self.model = torch.compile(self.model)\n",
    "        self.criterion = nn.CrossEntropyLoss()\n",
    "        self.optimizer = optim.Adam(self.model.parameters(), lr=0.001)\n",
    "        \n",
    "        self.mps_device = torch.device('mps')\n",
    "        self.model.to(self.mps_device)\n",
    "   \n",
    "    def train(self):\n",
    "        for epoch in range(5):\n",
    "\n",
    "            running_loss = 0.0\n",
    "            for i, (inputs, labels) in enumerate(trainloader, 0):\n",
    "                inputs = inputs.to(self.mps_device, non_blocking=True)\n",
    "                labels = labels.to(self.mps_device, non_blocking=True)\n",
    "                \n",
    "                self.optimizer.zero_grad()\n",
    "\n",
    "                outputs = self.model(inputs)\n",
    "                loss = self.criterion(outputs, labels)\n",
    "                loss.backward()\n",
    "                self.optimizer.step()\n",
    "\n",
    "                running_loss += loss.item()\n",
    "            \n",
    "            print(f'epoch {epoch + 1}: loss = {running_loss / 2000:.3f}')\n",
    "            running_loss = 0.0\n",
    "                \n",
    "    def evaluate(self):\n",
    "        correct, total = 0, 0\n",
    "        \n",
    "        with torch.no_grad():\n",
    "            for images, labels in testloader:\n",
    "                images = images.to(self.mps_device, non_blocking=True)\n",
    "                labels = labels.to(self.mps_device, non_blocking=True)\n",
    "                \n",
    "                outputs = self.model(images)\n",
    "                _, predicted = torch.max(outputs.data, 1)\n",
    "                total += labels.size(0)\n",
    "                correct += (predicted == labels).sum().item()\n",
    "                \n",
    "        return round(correct/total, 2)"
   ]
  },
  {
   "cell_type": "code",
   "execution_count": 10,
   "id": "cc8c5cd2",
   "metadata": {},
   "outputs": [
    {
     "name": "stdout",
     "output_type": "stream",
     "text": [
      "epoch 1: loss = 1.308\n",
      "epoch 2: loss = 1.039\n",
      "epoch 3: loss = 0.935\n",
      "epoch 4: loss = 0.866\n",
      "epoch 5: loss = 0.813\n",
      "accuracy:  0.62\n",
      "training time:  119.0\n",
      "epoch 1: loss = 1.203\n",
      "epoch 2: loss = 0.959\n",
      "epoch 3: loss = 0.847\n",
      "epoch 4: loss = 0.767\n",
      "epoch 5: loss = 0.714\n",
      "accuracy:  0.67\n",
      "training time:  119.05\n",
      "epoch 1: loss = 1.204\n",
      "epoch 2: loss = 0.946\n",
      "epoch 3: loss = 0.833\n",
      "epoch 4: loss = 0.757\n",
      "epoch 5: loss = 0.699\n",
      "accuracy:  0.65\n",
      "training time:  118.58\n",
      "epoch 1: loss = 1.282\n",
      "epoch 2: loss = 1.028\n",
      "epoch 3: loss = 0.921\n",
      "epoch 4: loss = 0.851\n",
      "epoch 5: loss = 0.804\n",
      "accuracy:  0.6\n",
      "training time:  118.72\n",
      "epoch 1: loss = 1.236\n",
      "epoch 2: loss = 0.976\n",
      "epoch 3: loss = 0.841\n",
      "epoch 4: loss = 0.749\n",
      "epoch 5: loss = 0.690\n",
      "accuracy:  0.68\n",
      "training time:  119.18\n",
      "epoch 1: loss = 1.181\n",
      "epoch 2: loss = 0.916\n",
      "epoch 3: loss = 0.787\n",
      "epoch 4: loss = 0.708\n",
      "epoch 5: loss = 0.647\n",
      "accuracy:  0.69\n",
      "training time:  120.4\n",
      "epoch 1: loss = 1.228\n",
      "epoch 2: loss = 0.935\n",
      "epoch 3: loss = 0.815\n",
      "epoch 4: loss = 0.739\n",
      "epoch 5: loss = 0.683\n",
      "accuracy:  0.68\n",
      "training time:  119.73\n",
      "epoch 1: loss = 1.179\n",
      "epoch 2: loss = 0.886\n",
      "epoch 3: loss = 0.765\n",
      "epoch 4: loss = 0.682\n",
      "epoch 5: loss = 0.618\n",
      "accuracy:  0.7\n",
      "training time:  121.01\n",
      "epoch 1: loss = 1.165\n",
      "epoch 2: loss = 0.879\n",
      "epoch 3: loss = 0.744\n",
      "epoch 4: loss = 0.660\n",
      "epoch 5: loss = 0.594\n",
      "accuracy:  0.71\n",
      "training time:  119.03\n"
     ]
    }
   ],
   "source": [
    "test_values = [16, 32, 64]\n",
    "accuracy_rows = {v: [] for v in test_values}\n",
    "time_rows = {v: [] for v in test_values}\n",
    "\n",
    "for conv2_filter in test_values:\n",
    "    for fc1_features in test_values:\n",
    "        \n",
    "        trainer = ModelTrainer(trainloader, testloader, conv2_filter, fc1_features)\n",
    "        start = time.time()\n",
    "        trainer.train()\n",
    "        end = time.time()\n",
    "        \n",
    "        accuracy = trainer.evaluate()\n",
    "        training_time = round(end-start, 2)\n",
    "        accuracy_rows[conv2_filter].append(accuracy)\n",
    "        time_rows[conv2_filter].append(training_time)\n",
    "        print('accuracy: ', accuracy)\n",
    "        print('training time: ', training_time)"
   ]
  },
  {
   "cell_type": "code",
   "execution_count": 11,
   "id": "0af51fdc",
   "metadata": {},
   "outputs": [
    {
     "name": "stdout",
     "output_type": "stream",
     "text": [
      "accuracy:\n",
      "       16    32    64\n",
      "16  0.62  0.67  0.65\n",
      "32  0.60  0.68  0.69\n",
      "64  0.68  0.70  0.71\n",
      "\training time:\n",
      "         16      32      64\n",
      "16  119.00  119.05  118.58\n",
      "32  118.72  119.18  120.40\n",
      "64  119.73  121.01  119.03\n"
     ]
    }
   ],
   "source": [
    "addDF = pd.DataFrame.from_dict(accuracy_rows, orient='index')\n",
    "timeDF = pd.DataFrame.from_dict(time_rows, orient='index')\n",
    "addDF.columns, timeDF.columns = test_values, test_values\n",
    "print('accuracy:\\n', addDF)\n",
    "print('\\training time:\\n', timeDF)"
   ]
  }
 ],
 "metadata": {
  "kernelspec": {
   "display_name": "Python 3 (ipykernel)",
   "language": "python",
   "name": "python3"
  },
  "language_info": {
   "codemirror_mode": {
    "name": "ipython",
    "version": 3
   },
   "file_extension": ".py",
   "mimetype": "text/x-python",
   "name": "python",
   "nbconvert_exporter": "python",
   "pygments_lexer": "ipython3",
   "version": "3.9.12"
  }
 },
 "nbformat": 4,
 "nbformat_minor": 5
}
